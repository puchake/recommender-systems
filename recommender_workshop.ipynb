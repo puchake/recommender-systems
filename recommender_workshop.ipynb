{
  "nbformat": 4,
  "nbformat_minor": 0,
  "metadata": {
    "colab": {
      "name": "recommender_workshop.ipynb",
      "version": "0.3.2",
      "provenance": [],
      "collapsed_sections": [],
      "include_colab_link": true
    },
    "kernelspec": {
      "name": "python3",
      "display_name": "Python 3"
    }
  },
  "cells": [
    {
      "cell_type": "markdown",
      "metadata": {
        "id": "view-in-github",
        "colab_type": "text"
      },
      "source": [
        "<a href=\"https://colab.research.google.com/github/puchake/recommender-systems/blob/master/recommender_workshop.ipynb\" target=\"_parent\"><img src=\"https://colab.research.google.com/assets/colab-badge.svg\" alt=\"Open In Colab\"/></a>"
      ]
    },
    {
      "metadata": {
        "id": "tEVAMNV0KEUV",
        "colab_type": "code",
        "cellView": "form",
        "outputId": "75971c18-67b3-4257-c616-2289f9b53615",
        "colab": {
          "base_uri": "https://localhost:8080/",
          "height": 287
        }
      },
      "cell_type": "code",
      "source": [
        "#@title install_modules\n",
        "\n",
        "!pip install surprise"
      ],
      "execution_count": 0,
      "outputs": [
        {
          "output_type": "stream",
          "text": [
            "Collecting surprise\n",
            "  Downloading https://files.pythonhosted.org/packages/61/de/e5cba8682201fcf9c3719a6fdda95693468ed061945493dea2dd37c5618b/surprise-0.1-py2.py3-none-any.whl\n",
            "Collecting scikit-surprise (from surprise)\n",
            "\u001b[?25l  Downloading https://files.pythonhosted.org/packages/4d/fc/cd4210b247d1dca421c25994740cbbf03c5e980e31881f10eaddf45fdab0/scikit-surprise-1.0.6.tar.gz (3.3MB)\n",
            "\u001b[K    100% |████████████████████████████████| 3.3MB 7.9MB/s \n",
            "\u001b[?25hRequirement already satisfied: joblib>=0.11 in /usr/local/lib/python3.6/dist-packages (from scikit-surprise->surprise) (0.12.5)\n",
            "Requirement already satisfied: numpy>=1.11.2 in /usr/local/lib/python3.6/dist-packages (from scikit-surprise->surprise) (1.16.2)\n",
            "Requirement already satisfied: scipy>=1.0.0 in /usr/local/lib/python3.6/dist-packages (from scikit-surprise->surprise) (1.2.1)\n",
            "Requirement already satisfied: six>=1.10.0 in /usr/local/lib/python3.6/dist-packages (from scikit-surprise->surprise) (1.11.0)\n",
            "Building wheels for collected packages: scikit-surprise\n",
            "  Building wheel for scikit-surprise (setup.py) ... \u001b[?25ldone\n",
            "\u001b[?25h  Stored in directory: /root/.cache/pip/wheels/ec/c0/55/3a28eab06b53c220015063ebbdb81213cd3dcbb72c088251ec\n",
            "Successfully built scikit-surprise\n",
            "Installing collected packages: scikit-surprise, surprise\n",
            "Successfully installed scikit-surprise-1.0.6 surprise-0.1\n"
          ],
          "name": "stdout"
        }
      ]
    },
    {
      "metadata": {
        "id": "ajzMN8KlcWwU",
        "colab_type": "code",
        "cellView": "form",
        "colab": {}
      },
      "cell_type": "code",
      "source": [
        "#@title download_data\n",
        "\n",
        "!wget --output-document=ml-latest-small.zip http://files.grouplens.org/datasets/movielens/ml-latest-small.zip\n",
        "!wget --output-document=ml-100k.zip http://files.grouplens.org/papers/ml-100k.zip\n",
        "!wget --output-document=ml-1m.zip http://files.grouplens.org/papers/ml-1m.zip \n",
        "!unzip ml-latest-small.zip\n",
        "!unzip ml-100k.zip\n",
        "!unzip ml-1m.zip"
      ],
      "execution_count": 0,
      "outputs": []
    },
    {
      "metadata": {
        "id": "WtYibb-_KO61",
        "colab_type": "code",
        "cellView": "both",
        "colab": {}
      },
      "cell_type": "code",
      "source": [
        "#@title load_modules\n",
        "\n",
        "import numpy as np\n",
        "import surprise as sp\n",
        "import pandas as pd\n",
        "from sklearn.linear_model import Ridge, LinearRegression"
      ],
      "execution_count": 0,
      "outputs": []
    },
    {
      "metadata": {
        "id": "E8LO7Zi4VWMc",
        "colab_type": "code",
        "cellView": "form",
        "colab": {}
      },
      "cell_type": "code",
      "source": [
        "#@title define_functions\n",
        "\n",
        "def load_movielens_dataset(\n",
        "  ratings_path, movies_path, ratings_cols, movies_cols, ratings_sep, movies_sep,\n",
        "  skiprows, user_id_col, movie_id_col\n",
        "):\n",
        "  ratings = pd.read_csv(\n",
        "      ratings_path, names=ratings_cols, delimiter=ratings_sep, \n",
        "      skiprows=skiprows, engine='python')\n",
        "  movies = pd.read_csv(\n",
        "      movies_path, names=movies_cols, delimiter=movies_sep, skiprows=skiprows,\n",
        "      engine='python')\n",
        "  n_users = ratings[user_id_col].nunique()\n",
        "  n_movies = ratings[movie_id_col].nunique()\n",
        "  n_ratings = len(ratings.index)\n",
        "  return ratings, movies, n_users, n_movies, n_ratings\n",
        "\n",
        "\n",
        "def l2_distance(point, points):\n",
        "  return np.linalg.norm(points - point, axis=1)\n",
        "\n",
        "\n",
        "def find_closest_points(point, points, n=10):\n",
        "  distances = l2_distance(point, points)\n",
        "  sorted_indices = np.argsort(distances)\n",
        "  return sorted_indices[:n]\n",
        "\n",
        "\n",
        "def calc_sparsity(n_ratings, n_users, n_items):\n",
        "  return 1 - n_ratings / n_users / n_items\n",
        "\n",
        "\n",
        "def find_ratings_decomposition(ratings, n_factors=100):\n",
        "  reader = sp.Reader(rating_scale=(0.5, 5.0))\n",
        "  data = sp.Dataset.load_from_df(ratings, reader=reader)\n",
        "  algo = sp.SVD(n_factors=n_factors)\n",
        "  #sp.model_selection.cross_validate(\n",
        "  #    algo, data, measures=['RMSE', 'MAE'], cv=5, verbose=True)\n",
        "  \n",
        "  trainset = data.build_full_trainset()\n",
        "  algo.fit(trainset)\n",
        "  \n",
        "  return algo.qi, algo.pu, algo\n"
      ],
      "execution_count": 0,
      "outputs": []
    },
    {
      "metadata": {
        "id": "CFw7mWXwSrb1",
        "colab_type": "code",
        "outputId": "df2dea4d-6ec7-45ba-f2dd-b35f16c0b181",
        "colab": {
          "base_uri": "https://localhost:8080/",
          "height": 251
        }
      },
      "cell_type": "code",
      "source": [
        "# Set of x_1, x_2 for example movies.\n",
        "movies_features = np.array(\n",
        "  [[1.0, 0.0],\n",
        "   [0.9, 0.1],\n",
        "   [0.1, 1.0],\n",
        "   [0.0, 1.0]]\n",
        ")\n",
        "\n",
        "# Set of ratings for movies by users. Users are in columns. -1 means no rating.\n",
        "ratings = np.array(\n",
        "  [[ 5.0, -1.0,  1.0, -1.0],\n",
        "   [-1.0,  4.5, -1.0,  2.0],\n",
        "   [-1.0, -1.0,  4.5,  5.0],\n",
        "   [ 1.0,  2.0,  5.0, -1.0]]\n",
        ")\n",
        "\n",
        "# Set of preferences of users for x_1 and x_2 feature of the movies.\n",
        "users_preferences = []\n",
        "\n",
        "for user_id in [0, 1, 2, 3]:\n",
        "  valid_ratings_indices = np.where(ratings[:, user_id] != -1.0)\n",
        "  valid_ratings = ratings[valid_ratings_indices, user_id][0]\n",
        "  rated_movies = movies_features[valid_ratings_indices]\n",
        "    \n",
        "  preferencje = np.linalg.lstsq(rated_movies, valid_ratings, rcond=None)[0]\n",
        "  users_preferences.append(preferencje)\n",
        "  \n",
        "user_preferences = np.array(users_preferences)\n",
        "print(\"Found users' preferences:\")\n",
        "print(user_preferences, \"\\n\")\n",
        "\n",
        "predicted_ratings = np.dot(movies_features, user_preferences.T)\n",
        "print(\"Predicted ratings:\")\n",
        "print(predicted_ratings, \"\\n\")\n",
        "\n",
        "comp_i = np.where(ratings != -1.0)\n",
        "print(np.mean(np.power(ratings[comp_i] - predicted_ratings[comp_i], 2)))"
      ],
      "execution_count": 0,
      "outputs": [
        {
          "output_type": "stream",
          "text": [
            "Found users' preferences:\n",
            "[[5.         1.        ]\n",
            " [4.77777778 2.        ]\n",
            " [0.97014925 4.70149254]\n",
            " [1.68539326 4.83146067]] \n",
            "\n",
            "Predicted ratings:\n",
            "[[5.         4.77777778 0.97014925 1.68539326]\n",
            " [4.6        4.5        1.34328358 2.        ]\n",
            " [1.5        2.47777778 4.79850746 5.        ]\n",
            " [1.         2.         4.70149254 4.83146067]] \n",
            "\n",
            "0.0199004975124378\n"
          ],
          "name": "stdout"
        }
      ]
    },
    {
      "metadata": {
        "id": "cN747DcPdIrw",
        "colab_type": "code",
        "outputId": "93351df4-0fb3-42ac-a2ca-60889a39dc50",
        "colab": {
          "base_uri": "https://localhost:8080/",
          "height": 251
        }
      },
      "cell_type": "code",
      "source": [
        "# Set of x_1, x_2 for example movies.\n",
        "movies_features = []\n",
        "\n",
        "# Set of ratings for movies by users. Users are in columns. -1 means no rating.\n",
        "ratings = np.array(\n",
        "  [[ 5.0, -1.0,  1.0, -1.0],\n",
        "   [-1.0,  4.5, -1.0,  2.0],\n",
        "   [-1.0, -1.0,  4.5,  5.0],\n",
        "   [ 1.0,  2.0,  5.0, -1.0]]\n",
        ")\n",
        "\n",
        "# Set of preferences of users for x_1 and x_2 feature of the movies.\n",
        "users_preferences = np.array(\n",
        "  [[5.0       , 1.0       ],\n",
        "   [4.77777778, 2.0       ],\n",
        "   [0.97014925, 4.70149254],\n",
        "   [1.68539326, 4.83146067]] \n",
        ")\n",
        "\n",
        "for movie_id in [0, 1, 2, 3]:\n",
        "  valid_ratings_indices = np.where(ratings[movie_id, :] != -1.0)\n",
        "  valid_ratings = ratings[movie_id, valid_ratings_indices][0]\n",
        "  rated_users_preferences = users_preferences[valid_ratings_indices]\n",
        "  \n",
        "  cechy = np.linalg.lstsq(\n",
        "      rated_users_preferences, valid_ratings, rcond=None)[0]\n",
        "  movies_features.append(cechy)\n",
        "  \n",
        "movies_features = np.array(movies_features)\n",
        "print(\"Found movies' features:\")\n",
        "print(movies_features, \"\\n\")\n",
        "\n",
        "predicted_ratings = np.dot(movies_features, user_preferences.T)\n",
        "print(\"Predicted ratings:\")\n",
        "print(predicted_ratings, \"\\n\")\n",
        "\n",
        "comp_i = np.where(ratings != -1.0)\n",
        "print(np.mean(np.power(ratings[comp_i] - predicted_ratings[comp_i], 2)))"
      ],
      "execution_count": 0,
      "outputs": [
        {
          "output_type": "stream",
          "text": [
            "Found movies' features:\n",
            "[[ 0.9986755   0.00662252]\n",
            " [ 0.9         0.1       ]\n",
            " [ 0.54559586  0.84455958]\n",
            " [-0.01984558  1.06577666]] \n",
            "\n",
            "Predicted ratings:\n",
            "[[5.         4.78469463 1.         1.71515738]\n",
            " [4.6        4.5        1.34328358 2.        ]\n",
            " [3.57253888 4.29585494 4.5        5.        ]\n",
            " [0.96654876 2.03673555 4.99148784 5.11581041]] \n",
            "\n",
            "0.00028232698865541264\n"
          ],
          "name": "stdout"
        }
      ]
    },
    {
      "metadata": {
        "id": "lHZh-B9Y8MaA",
        "colab_type": "code",
        "outputId": "1d304747-97c3-4a07-fcd9-cd770c428e1e",
        "colab": {
          "base_uri": "https://localhost:8080/",
          "height": 2159
        }
      },
      "cell_type": "code",
      "source": [
        "# Set of x_1, x_2 for example movies.\n",
        "movies_features = np.array(\n",
        "  [[37.1, 1.1],\n",
        "   [37.1, 1.1],\n",
        "   [37.1, 1.1],\n",
        "   [37.1, 1.1]]\n",
        ")\n",
        "\n",
        "# Set of ratings for movies by users. Users are in columns. -1 means no rating.\n",
        "ratings = np.array(\n",
        "  [[ 5.0, -1.0,  1.0, -1.0],\n",
        "   [-1.0,  4.5, -1.0,  2.0],\n",
        "   [-1.0, -1.0,  4.5,  5.0],\n",
        "   [ 1.0,  2.0,  5.0, -1.0]]\n",
        ")\n",
        "\n",
        "# Set of preferences of users for x_1 and x_2 feature of the movies.\n",
        "users_preferences = []\n",
        "\n",
        "for i in range(100):\n",
        "  users_preferences = []\n",
        "  for user_id in [0, 1, 2, 3]:\n",
        "    valid_ratings_indices = np.where(ratings[:, user_id] > -1.0)\n",
        "    valid_ratings = ratings[valid_ratings_indices, user_id][0]\n",
        "    rated_movies = movies_features[valid_ratings_indices]\n",
        "\n",
        "    clf = Ridge(alpha=0.5, fit_intercept=False)\n",
        "    clf.fit(rated_movies, valid_ratings)\n",
        "    users_preferences.append(clf.coef_)\n",
        "\n",
        "  users_preferences = np.array(users_preferences)\n",
        "\n",
        "  movies_features = []\n",
        "  \n",
        "  for movie_id in [0, 1, 2, 3]:\n",
        "    valid_ratings_indices = np.where(ratings[movie_id, :] > -1.0)\n",
        "    valid_ratings = ratings[movie_id, valid_ratings_indices][0]\n",
        "    rated_users_preferences = users_preferences[valid_ratings_indices]\n",
        "\n",
        "    clf = Ridge(alpha=0.5, fit_intercept=False)\n",
        "    clf.fit(rated_users_preferences, valid_ratings)\n",
        "    movies_features.append(clf.coef_)\n",
        "\n",
        "  movies_features = np.array(movies_features)\n",
        "  predicted_ratings = np.dot(movies_features, users_preferences.T)\n",
        "  comp_i = np.where(ratings > -1.0)\n",
        "  print(np.mean(np.power(ratings[comp_i] - predicted_ratings[comp_i], 2)))\n",
        "  \n",
        "\n",
        "movies_features = np.array(movies_features)\n",
        "print(\"Found movies' features:\")\n",
        "print(movies_features, \"\\n\")\n",
        "  \n",
        "users_preferences = np.array(users_preferences)\n",
        "print(\"Found users' preferences:\")\n",
        "print(users_preferences, \"\\n\")\n",
        "\n",
        "predicted_ratings = np.dot(movies_features, users_preferences.T)\n",
        "print(\"Predicted ratings:\")\n",
        "print(predicted_ratings, \"\\n\")\n",
        "\n",
        "comp_i = np.where(ratings > -1.0)\n",
        "print(np.mean(np.power(ratings[comp_i] - predicted_ratings[comp_i], 2)))"
      ],
      "execution_count": 0,
      "outputs": [
        {
          "output_type": "stream",
          "text": [
            "13.13713222992114\n",
            "2.4066305940175203\n",
            "2.249214032238978\n",
            "2.187705773092429\n",
            "2.161149954469215\n",
            "2.1489994180176044\n",
            "2.143323936363335\n",
            "2.1384289725994434\n",
            "0.4349520211368014\n",
            "0.2378970853318673\n",
            "0.16099099086943194\n",
            "0.13003044319642607\n",
            "0.1178204949506318\n",
            "0.11273655955048761\n",
            "0.11056941903163038\n",
            "0.1096853377062117\n",
            "0.10938934755696562\n",
            "0.10936556572005936\n",
            "0.10946379510935048\n",
            "0.1096106407951437\n",
            "0.10977000530999266\n",
            "0.1099245579957567\n",
            "0.11006661543349289\n",
            "0.11019346928531136\n",
            "0.11030492309501977\n",
            "0.11040197469591055\n",
            "0.11048611229316702\n",
            "0.11055894587627171\n",
            "0.11062202326580393\n",
            "0.11067674735899086\n",
            "0.11072434781856484\n",
            "0.11076588092612243\n",
            "0.11080224291741587\n",
            "0.11083418873089526\n",
            "0.11086235187576424\n",
            "0.1108872632675755\n",
            "0.1109093680772902\n",
            "0.11092904029219518\n",
            "0.11094659502601302\n",
            "0.11096229877651975\n",
            "0.11097637789102976\n",
            "0.11098902550930329\n",
            "0.11100040723618008\n",
            "0.11101066576754594\n",
            "0.11101992466124316\n",
            "0.11102829141352673\n",
            "0.11103585997364226\n",
            "0.11104271280478858\n",
            "0.11104892257919832\n",
            "0.11105455357804145\n",
            "0.11105966285293217\n",
            "0.11106430119451743\n",
            "0.11106851394453046\n",
            "0.11107234168040497\n",
            "0.11107582079573357\n",
            "0.11107898399520652\n",
            "0.11108186071901126\n",
            "0.11108447750871793\n",
            "0.11108685832437623\n",
            "0.11108902482068357\n",
            "0.11109099658863571\n",
            "0.11109279136787152\n",
            "0.11109442523402008\n",
            "0.11109591276458225\n",
            "0.11109726718628707\n",
            "0.11109850050638635\n",
            "0.11109962362993789\n",
            "0.1111006464648241\n",
            "0.11110157801598233\n",
            "0.1111024264701163\n",
            "0.11110319927196735\n",
            "0.11110390319309103\n",
            "0.11110454439394571\n",
            "0.11110512848002102\n",
            "0.11110566055260514\n",
            "0.11110614525476076\n",
            "0.11110658681298463\n",
            "0.11110698907498305\n",
            "0.11110735554393929\n",
            "0.11110768940962233\n",
            "0.11110799357663717\n",
            "0.11110827069008482\n",
            "0.11110852315888427\n",
            "0.11110875317697202\n",
            "0.11110896274257691\n",
            "0.11110915367575205\n",
            "0.11110932763431837\n",
            "0.11110948612837787\n",
            "0.11110963053350958\n",
            "0.11110976210279128\n",
            "0.11110988197773018\n",
            "0.1111099911982192\n",
            "0.11111009071160259\n",
            "0.11111018138092245\n",
            "0.11111026399243712\n",
            "0.11111033926245746\n",
            "0.11111040784358134\n",
            "0.11111047033036477\n",
            "0.11111052726449065\n",
            "0.11111057913947514\n",
            "Found movies' features:\n",
            "[[-1.71823639  1.24405602]\n",
            " [-1.87181136  0.70443357]\n",
            " [-1.5948841  -1.39870206]\n",
            " [-1.59479806 -1.39880383]] \n",
            "\n",
            "Found users' preferences:\n",
            "[[-1.71822125  1.24406725]\n",
            " [-1.87188291  0.70438275]\n",
            " [-1.59477215 -1.39881152]\n",
            " [-1.5948761  -1.39869505]] \n",
            "\n",
            "Predicted ratings:\n",
            "[[4.49999963 4.09262893 0.99999565 1.00031916]\n",
            " [4.09254879 4.00000254 1.99974283 2.00001945]\n",
            " [1.00028432 2.00021468 4.49999731 4.50000018]\n",
            " [1.00000988 1.99998193 4.50000244 4.50000528]] \n",
            "\n",
            "0.11111057913947514\n"
          ],
          "name": "stdout"
        }
      ]
    },
    {
      "metadata": {
        "id": "sNOzFj6LjuEB",
        "colab_type": "code",
        "cellView": "form",
        "outputId": "db1682be-6cd8-4818-f149-1c58ee00d6e1",
        "colab": {
          "base_uri": "https://localhost:8080/",
          "height": 71
        }
      },
      "cell_type": "code",
      "source": [
        "#@title load_movielens_data\n",
        "\n",
        "(msmall_ratings, msmall_movies, \n",
        " msmall_n_users, msmall_n_movies, \n",
        " msmall_n_ratings) = load_movielens_dataset(\n",
        "    'ml-latest-small/ratings.csv', 'ml-latest-small/movies.csv', \n",
        "    ['user_id', 'movie_id', 'rating', 'time'], ['movie_id', 'title', 'genre'],\n",
        "    ',', ',', 1, 'user_id', 'movie_id')\n",
        "\n",
        "(m100k_ratings, m100k_movies, \n",
        " m100k_n_users, m100k_n_movies, \n",
        " m100k_n_ratings) = load_movielens_dataset(\n",
        "    'ml-100k/u.data', 'ml-100k/u.item', \n",
        "    ['user_id', 'movie_id', 'rating', 'time'], \n",
        "    ['movie_id', 'title', 'release_date', 'video_release_date', 'imdb_url'],\n",
        "    '\\t', '|', 0, 'user_id', 'movie_id')\n",
        "\n",
        "(m1m_ratings, m1m_movies, \n",
        " m1m_n_users, m1m_n_movies, \n",
        " m1m_n_ratings) = load_movielens_dataset(\n",
        "    'ml-1m/ratings.dat', 'ml-1m/movies.dat', \n",
        "    ['user_id', 'movie_id', 'rating', 'time'], ['movie_id', 'title', 'genres'],\n",
        "    '::', '::', 0, 'user_id', 'movie_id')\n",
        "\n",
        "print(msmall_n_users, msmall_n_movies, msmall_n_ratings, calc_sparsity(msmall_n_ratings, msmall_n_users, msmall_n_movies))\n",
        "print(m100k_n_users, m100k_n_movies, m100k_n_ratings, calc_sparsity(m100k_n_ratings, m100k_n_users, m100k_n_movies))\n",
        "print(m1m_n_users, m1m_n_movies, m1m_n_ratings, calc_sparsity(m1m_n_ratings, m1m_n_users, m1m_n_movies))\n"
      ],
      "execution_count": 0,
      "outputs": [
        {
          "output_type": "stream",
          "text": [
            "610 9724 100836 0.9830003169443864\n",
            "943 1682 100000 0.9369533063577546\n",
            "6040 3706 1000209 0.9553163743776871\n"
          ],
          "name": "stdout"
        }
      ]
    },
    {
      "metadata": {
        "id": "JC3WmQ3Y9WoR",
        "colab_type": "code",
        "cellView": "both",
        "outputId": "5810fa59-56a7-4427-81e9-8adc828d6b88",
        "colab": {
          "base_uri": "https://localhost:8080/",
          "height": 35
        }
      },
      "cell_type": "code",
      "source": [
        "#@title Default title text\n",
        "items, preferences, algo = find_ratings_decomposition(m1m_ratings[[\"user_id\", \"movie_id\", \"rating\"]])\n",
        " print(items.shape, preferences.shape, algo)"
      ],
      "execution_count": 0,
      "outputs": [
        {
          "output_type": "stream",
          "text": [
            "(3706, 100) (6040, 100) <surprise.prediction_algorithms.matrix_factorization.SVD object at 0x7f23441c1b70>\n"
          ],
          "name": "stdout"
        }
      ]
    },
    {
      "metadata": {
        "id": "ye4mkdACjjSZ",
        "colab_type": "code",
        "colab": {}
      },
      "cell_type": "code",
      "source": [
        "print(m1m_movies.iloc[0])"
      ],
      "execution_count": 0,
      "outputs": []
    },
    {
      "metadata": {
        "id": "GWWcPQUEjo8C",
        "colab_type": "code",
        "colab": {}
      },
      "cell_type": "code",
      "source": [
        "print(items[algo.trainset.to_inner_iid(1)])"
      ],
      "execution_count": 0,
      "outputs": []
    },
    {
      "metadata": {
        "id": "LLLXpk2wjzA1",
        "colab_type": "code",
        "outputId": "2d1cdbb9-f0a5-4528-b935-0c1da31eb126",
        "colab": {
          "base_uri": "https://localhost:8080/",
          "height": 377
        }
      },
      "cell_type": "code",
      "source": [
        "toy_story_index = algo.trainset.to_inner_iid(1)\n",
        "close_indices = find_closest_points(items[toy_story_index], items)\n",
        "for i in close_indices:\n",
        "  print(m1m_movies.loc[m1m_movies['movie_id'] == algo.trainset.to_raw_iid(i)])"
      ],
      "execution_count": 0,
      "outputs": [
        {
          "output_type": "stream",
          "text": [
            "   movie_id             title                       genres\n",
            "0         1  Toy Story (1995)  Animation|Children's|Comedy\n",
            "      movie_id               title                       genres\n",
            "3045      3114  Toy Story 2 (1999)  Animation|Children's|Comedy\n",
            "      movie_id                 title                       genres\n",
            "2286      2355  Bug's Life, A (1998)  Animation|Children's|Comedy\n",
            "     movie_id           title                               genres\n",
            "584       588  Aladdin (1992)  Animation|Children's|Comedy|Musical\n",
            "      movie_id                           title            genres\n",
            "1180      1198  Raiders of the Lost Ark (1981)  Action|Adventure\n",
            "      movie_id              title  genres\n",
            "2415      2484  Tinseltown (1998)  Comedy\n",
            "      movie_id                       title            genres\n",
            "1132      1148  Wrong Trousers, The (1993)  Animation|Comedy\n",
            "      movie_id                                        title      genres\n",
            "2828      2897  And the Ship Sails On (E la nave va) (1984)  Comedy|War\n",
            "     movie_id                                   title genres\n",
            "664       670  World of Apu, The (Apur Sansar) (1959)  Drama\n",
            "      movie_id           title             genres\n",
            "1551      1592  Air Bud (1997)  Children's|Comedy\n"
          ],
          "name": "stdout"
        }
      ]
    },
    {
      "metadata": {
        "id": "YF5KfsL_WUr7",
        "colab_type": "code",
        "outputId": "d6957dbe-d86d-4145-a183-dd4502f8e88c",
        "colab": {
          "base_uri": "https://localhost:8080/",
          "height": 35
        }
      },
      "cell_type": "code",
      "source": [
        "find_closest_points([1, 2], np.array([[1, 2], [1, 2], [2, 4]]))"
      ],
      "execution_count": 0,
      "outputs": [
        {
          "output_type": "execute_result",
          "data": {
            "text/plain": [
              "array([0, 1, 2])"
            ]
          },
          "metadata": {
            "tags": []
          },
          "execution_count": 11
        }
      ]
    },
    {
      "metadata": {
        "colab_type": "code",
        "id": "RP5gxRyKIb6T",
        "cellView": "form",
        "colab": {}
      },
      "cell_type": "code",
      "source": [
        "#@title Default title text\n",
        "# Set of x_1, x_2 for example movies.\n",
        "movies_features = np.array(\n",
        "  [[1.0, 0.0],\n",
        "   [0.9, 0.1],\n",
        "   [0.1, 1.0],\n",
        "   [0.0, 1.0]]\n",
        ")\n",
        "\n",
        "# Set of ratings for movies by users. Users are in columns. -1 means no rating.\n",
        "ratings = np.array(\n",
        "  [[ 5.0, -1.0,  1.0, -1.0],\n",
        "   [-1.0,  4.5, -1.0,  2.0],\n",
        "   [-1.0, -1.0,  4.5,  5.0],\n",
        "   [ 1.0,  2.0,  5.0, -1.0]]\n",
        ")\n",
        "\n",
        "# Set of preferences of users for x_1 and x_2 feature of the movies.\n",
        "users_preferences = []\n",
        "\n",
        "for user_id in [0, 1, 2, 3]:\n",
        "  valid_ratings_indices = np.where(ratings[:, user_id] != -1.0)\n",
        "  valid_ratings = ratings[valid_ratings_indices, user_id][0]\n",
        "  rated_movies = movies_features[valid_ratings_indices]\n",
        "  \n",
        "  user_preferences = np.linalg.lstsq(rated_movies, valid_ratings, rcond=None)[0]\n",
        "  users_preferences.append(user_preferences)\n",
        "  \n",
        "user_preferences = np.array(users_preferences)\n",
        "print(\"Found users' preferences:\")\n",
        "print(user_preferences, \"\\n\")\n",
        "\n",
        "predicted_ratings = np.dot(movies_features, user_preferences.T)\n",
        "print(\"Predicted ratings:\")\n",
        "print(predicted_ratings, \"\\n\")"
      ],
      "execution_count": 0,
      "outputs": []
    },
    {
      "metadata": {
        "colab_type": "code",
        "id": "Rxr_g48TIie-",
        "cellView": "form",
        "outputId": "0eb80480-bdd4-47cc-fdc0-82a1f7178ecc",
        "colab": {
          "base_uri": "https://localhost:8080/",
          "height": 233
        }
      },
      "cell_type": "code",
      "source": [
        "#@title Default title text\n",
        "# Set of x_1, x_2 for example movies.\n",
        "movies_features = []\n",
        "\n",
        "# Set of ratings for movies by users. Users are in columns. -1 means no rating.\n",
        "ratings = np.array(\n",
        "  [[ 5.0, -1.0,  1.0, -1.0],\n",
        "   [-1.0,  4.5, -1.0,  2.0],\n",
        "   [-1.0, -1.0,  4.5,  5.0],\n",
        "   [ 1.0,  2.0,  5.0, -1.0]]\n",
        ")\n",
        "\n",
        "# Set of preferences of users for x_1 and x_2 feature of the movies.\n",
        "users_preferences = np.array(\n",
        "  [[5.0       , 1.0       ],\n",
        "   [4.77777778, 2.0       ],\n",
        "   [0.97014925, 4.70149254],\n",
        "   [1.68539326, 4.83146067]] \n",
        ")\n",
        "\n",
        "for movie_id in [0, 1, 2, 3]:\n",
        "  valid_ratings_indices = np.where(ratings[:, movie_id] != -1.0)\n",
        "  valid_ratings = ratings[valid_ratings_indices, movie_id][0]\n",
        "  rated_users_preferences = users_preferences[valid_ratings_indices]\n",
        "  \n",
        "  movie_features = np.linalg.lstsq(\n",
        "      rated_users_preferences, valid_ratings, rcond=None)[0]\n",
        "  movies_features.append(movie_features)\n",
        "  \n",
        "movies_features = np.array(movies_features)\n",
        "print(\"Found movies' features:\")\n",
        "print(movies_features, \"\\n\")\n",
        "\n",
        "predicted_ratings = np.dot(movies_features, user_preferences.T)\n",
        "print(\"Predicted ratings:\")\n",
        "print(predicted_ratings, \"\\n\")"
      ],
      "execution_count": 0,
      "outputs": [
        {
          "output_type": "stream",
          "text": [
            "Found movies' features:\n",
            "[[ 1.0305     -0.1525    ]\n",
            " [ 0.9         0.1       ]\n",
            " [ 0.00632135  0.99472651]\n",
            " [-0.02909091  1.06949495]] \n",
            "\n",
            "Predicted ratings:\n",
            "[[5.         4.6185     0.28276119 1.        ]\n",
            " [4.6        4.5        1.34328358 2.        ]\n",
            " [1.02633325 2.01965502 4.68283191 4.81663597]\n",
            " [0.9240404  2.         5.         5.11819316]] \n",
            "\n"
          ],
          "name": "stdout"
        }
      ]
    }
  ]
}